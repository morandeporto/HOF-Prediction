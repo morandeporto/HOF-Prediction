{
 "cells": [
  {
   "cell_type": "markdown",
   "id": "933f754f",
   "metadata": {},
   "source": [
    "# Machine Leraning Algorithms"
   ]
  },
  {
   "cell_type": "markdown",
   "id": "f659eb5c",
   "metadata": {},
   "source": [
    "**Imports**"
   ]
  },
  {
   "cell_type": "code",
   "execution_count": 1,
   "id": "5278c7a2",
   "metadata": {},
   "outputs": [],
   "source": [
    "from sklearn.neighbors import KNeighborsClassifier\n",
    "from sklearn.model_selection import train_test_split\n",
    "from sklearn.metrics import accuracy_score, precision_score, recall_score, f1_score\n",
    "from sklearn.model_selection import cross_val_score\n",
    "from sklearn.model_selection import GridSearchCV\n",
    "from sklearn.metrics import make_scorer\n",
    "from sklearn import metrics\n",
    "from sklearn.tree import DecisionTreeClassifier\n",
    "from imblearn.over_sampling import SMOTE\n",
    "from sklearn.linear_model import LogisticRegression\n",
    "from sklearn.metrics import classification_report\n",
    "from sklearn.preprocessing import StandardScaler\n",
    "from sklearn.model_selection import cross_validate\n",
    "from sklearn.inspection import permutation_importance\n",
    "import pandas as pd"
   ]
  },
  {
   "cell_type": "markdown",
   "id": "7ad4edc3",
   "metadata": {},
   "source": [
    "**Reading the DataFrame**"
   ]
  },
  {
   "cell_type": "code",
   "execution_count": 2,
   "id": "107e291e",
   "metadata": {},
   "outputs": [],
   "source": [
    "df = pd.read_csv(\"final_modified_players.csv\")"
   ]
  },
  {
   "cell_type": "markdown",
   "id": "f8315d4d",
   "metadata": {},
   "source": [
    "<br/>\n",
    "<br/>"
   ]
  },
  {
   "cell_type": "markdown",
   "id": "4b1acb60",
   "metadata": {},
   "source": [
    "* Function to print model results"
   ]
  },
  {
   "cell_type": "code",
   "execution_count": 3,
   "id": "b3d403eb",
   "metadata": {},
   "outputs": [],
   "source": [
    "def print_results(y_test,y_pred):\n",
    "    accuracy = accuracy_score(y_test, y_pred)\n",
    "    print(f'Accuracy: {accuracy}')\n",
    "\n",
    "    precision = precision_score(y_test, y_pred)\n",
    "    print(f'Precision: {precision}')\n",
    "\n",
    "    recall = recall_score(y_test, y_pred)\n",
    "    print(f'Recall: {recall}')\n",
    "\n",
    "    f1 = f1_score(y_test, y_pred)\n",
    "    print(f'F1-score: {f1}')"
   ]
  },
  {
   "cell_type": "markdown",
   "id": "32d600c6",
   "metadata": {},
   "source": [
    "<br/>\n",
    "<br/>\n"
   ]
  },
  {
   "cell_type": "markdown",
   "id": "390f96f8",
   "metadata": {},
   "source": [
    "**Finding Best K for KNN**"
   ]
  },
  {
   "cell_type": "code",
   "execution_count": 4,
   "id": "96876eb2",
   "metadata": {},
   "outputs": [],
   "source": [
    "def find_best_k_for_KNN(X_train, y_train):\n",
    "    parameters = {'n_neighbors': list(range(1, 64))}\n",
    "    knn = KNeighborsClassifier()\n",
    "    clf = GridSearchCV(knn, parameters, scoring=make_scorer(metrics.f1_score, greater_is_better=True))\n",
    "    clf.fit(X_train, y_train)\n",
    "    best_K = clf.best_params_[\"n_neighbors\"]\n",
    "    return best_K, clf.best_score_"
   ]
  },
  {
   "cell_type": "code",
   "execution_count": 5,
   "id": "6eb17c54",
   "metadata": {},
   "outputs": [
    {
     "name": "stdout",
     "output_type": "stream",
     "text": [
      "Best k value: 16\n",
      "Best cross-validated F1-score: 0.4816410256410257\n"
     ]
    }
   ],
   "source": [
    "# Split data into training and test sets\n",
    "X = df.drop('Hall Of Famer', axis=1)\n",
    "y = df['Hall Of Famer']\n",
    "X_train, X_test, y_train, y_test = train_test_split(X, y, test_size=0.3, random_state=42)\n",
    "\n",
    "# Find the best value of k\n",
    "best_k, best_score = find_best_k_for_KNN(X_train, y_train)\n",
    "print(f'Best k value: {best_k}')\n",
    "print(f'Best cross-validated F1-score: {best_score}')"
   ]
  },
  {
   "cell_type": "markdown",
   "id": "82dec62a",
   "metadata": {},
   "source": [
    "**KNN Model**"
   ]
  },
  {
   "cell_type": "code",
   "execution_count": 6,
   "id": "7547187a",
   "metadata": {},
   "outputs": [],
   "source": [
    "knn = KNeighborsClassifier(n_neighbors=best_k)\n",
    "knn.fit(X_train, y_train)\n",
    "\n",
    "y_pred = knn.predict(X_test)"
   ]
  },
  {
   "cell_type": "code",
   "execution_count": 7,
   "id": "37d9d64a",
   "metadata": {},
   "outputs": [
    {
     "name": "stdout",
     "output_type": "stream",
     "text": [
      "Accuracy: 0.9763071895424836\n",
      "Precision: 0.7142857142857143\n",
      "Recall: 0.39473684210526316\n",
      "F1-score: 0.5084745762711864\n"
     ]
    }
   ],
   "source": [
    "print_results(y_test, y_pred)"
   ]
  },
  {
   "cell_type": "markdown",
   "id": "117b90de",
   "metadata": {},
   "source": [
    "<br/>\n",
    "<br/>"
   ]
  },
  {
   "cell_type": "markdown",
   "id": "01404e7a",
   "metadata": {},
   "source": [
    "**Decision Tree Algorithm without scaler**"
   ]
  },
  {
   "cell_type": "code",
   "execution_count": 8,
   "id": "0bcfa45f",
   "metadata": {},
   "outputs": [],
   "source": [
    "dt = DecisionTreeClassifier()\n",
    "dt.fit(X_train, y_train)\n",
    "\n",
    "y_pred = dt.predict(X_test)"
   ]
  },
  {
   "cell_type": "code",
   "execution_count": 9,
   "id": "cb84be20",
   "metadata": {
    "scrolled": true
   },
   "outputs": [
    {
     "name": "stdout",
     "output_type": "stream",
     "text": [
      "Accuracy: 0.9771241830065359\n",
      "Precision: 0.6086956521739131\n",
      "Recall: 0.7368421052631579\n",
      "F1-score: 0.6666666666666666\n"
     ]
    }
   ],
   "source": [
    "print_results(y_test, y_pred)"
   ]
  },
  {
   "cell_type": "markdown",
   "id": "6bdb65c3",
   "metadata": {},
   "source": [
    "<br/>\n",
    "<br/>\n"
   ]
  },
  {
   "cell_type": "markdown",
   "id": "8893413c",
   "metadata": {},
   "source": [
    "**Handling binary imbalance calssification using <span style=\"color:green\">SMOTE**</span>"
   ]
  },
  {
   "cell_type": "code",
   "execution_count": 10,
   "id": "2281a7e7",
   "metadata": {},
   "outputs": [
    {
     "name": "stdout",
     "output_type": "stream",
     "text": [
      "Hall Of Famer\n",
      "False    3943\n",
      "True      788\n",
      "Name: count, dtype: int64\n"
     ]
    }
   ],
   "source": [
    "# Separate the features and the target variable\n",
    "X = df.drop('Hall Of Famer', axis=1)\n",
    "y = df['Hall Of Famer']\n",
    "\n",
    "# Create a SMOTE object with a 70/30 ratio\n",
    "sm = SMOTE(random_state=0, sampling_strategy=0.2)\n",
    "\n",
    "# Fit the SMOTE object to the data\n",
    "X_resampled, y_resampled = sm.fit_resample(X, y)\n",
    "\n",
    "# Check the new class distribution\n",
    "print(pd.Series(y_resampled).value_counts())"
   ]
  },
  {
   "cell_type": "markdown",
   "id": "596a4bb0",
   "metadata": {},
   "source": [
    "<br/>\n",
    "<br/>"
   ]
  },
  {
   "cell_type": "markdown",
   "id": "3d142d35",
   "metadata": {},
   "source": [
    "**Logistic Regression**\n",
    "* Using logistic regression algorithim with <span style=\"color:blue\">**scaler**</span>"
   ]
  },
  {
   "cell_type": "code",
   "execution_count": 11,
   "id": "740381a0",
   "metadata": {},
   "outputs": [
    {
     "name": "stdout",
     "output_type": "stream",
     "text": [
      "Accuracy: 0.9640845070422536\n",
      "Precision: 0.9137931034482759\n",
      "Recall: 0.8724279835390947\n",
      "F1-score: 0.8926315789473684\n"
     ]
    }
   ],
   "source": [
    "X_train, X_test, y_train, y_test = train_test_split(X_resampled, y_resampled, test_size=0.3, random_state=0)\n",
    "\n",
    "scaler = StandardScaler()\n",
    "X_train_scaled = scaler.fit_transform(X_train)\n",
    "X_test_scaled = scaler.transform(X_test)\n",
    "\n",
    "model = LogisticRegression()\n",
    "model.fit(X_train_scaled, y_train)\n",
    "\n",
    "y_pred = model.predict(X_test_scaled)\n",
    "\n",
    "print_results(y_test, y_pred)"
   ]
  },
  {
   "cell_type": "markdown",
   "id": "ba002176",
   "metadata": {},
   "source": [
    "<br/>\n"
   ]
  },
  {
   "cell_type": "markdown",
   "id": "646675ab",
   "metadata": {},
   "source": [
    "<span style=\"font-size: 16px\">**Checking the impact of <span style=\"color: blue; font-weight: bold;\">Total Points</span> on Hall Of Fame chance**</span>\n",
    "* Using permutation importance to check how important is total points column for the prediction of hall of famer. The value we got means that the prediction was around **12% worse without total points column.**"
   ]
  },
  {
   "cell_type": "code",
   "execution_count": 13,
   "id": "5d736547",
   "metadata": {},
   "outputs": [
    {
     "name": "stdout",
     "output_type": "stream",
     "text": [
      "Total Points: 0.121 +/- 0.006\n"
     ]
    }
   ],
   "source": [
    "# Compute permutation importance\n",
    "result = permutation_importance(model, X_test_scaled, y_test, n_repeats=10)\n",
    "\n",
    "feature_index = X.columns.get_loc('Total Points')\n",
    "\n",
    "print(f'Total Points: {result.importances_mean[feature_index]:.3f} +/- {result.importances_std[feature_index]:.3f}')"
   ]
  },
  {
   "cell_type": "markdown",
   "id": "75107087",
   "metadata": {},
   "source": [
    "<br/>\n",
    "<br/>"
   ]
  },
  {
   "cell_type": "markdown",
   "id": "bf648b44",
   "metadata": {},
   "source": [
    "**Decision Tree with Scaler**"
   ]
  },
  {
   "cell_type": "code",
   "execution_count": 14,
   "id": "fbbd8587",
   "metadata": {
    "scrolled": false
   },
   "outputs": [
    {
     "name": "stdout",
     "output_type": "stream",
     "text": [
      "Accuracy: 0.967605633802817\n",
      "Precision: 0.8893280632411067\n",
      "Recall: 0.9259259259259259\n",
      "F1-score: 0.9072580645161291\n"
     ]
    }
   ],
   "source": [
    "dt = DecisionTreeClassifier()\n",
    "dt.fit(X_train_scaled, y_train)\n",
    "\n",
    "y_pred = dt.predict(X_test_scaled)\n",
    "print_results(y_test, y_pred)"
   ]
  },
  {
   "cell_type": "code",
   "execution_count": 32,
   "id": "12eafe7d",
   "metadata": {
    "scrolled": false
   },
   "outputs": [
    {
     "data": {
      "text/plain": [
       "<Axes: title={'center': 'Feature Importance'}>"
      ]
     },
     "execution_count": 32,
     "metadata": {},
     "output_type": "execute_result"
    },
    {
     "data": {
      "image/png": "[encoded data removed]",
      "text/plain": [
       "<Figure size 640x480 with 1 Axes>"
      ]
     },
     "metadata": {},
     "output_type": "display_data"
    }
   ],
   "source": [
    "importance = dt.feature_importances_\n",
    "importance_series = pd.Series(importance, index=X.columns)\n",
    "sorted_importance = importance_series.sort_values(ascending=False)\n",
    "sorted_importance.plot(kind='barh', title='Feature Importance')"
   ]
  },
  {
   "cell_type": "markdown",
   "id": "23535c5b",
   "metadata": {},
   "source": [
    "<br/>\n",
    "<br/>"
   ]
  },
  {
   "cell_type": "markdown",
   "id": "84e76ec4",
   "metadata": {},
   "source": [
    "**Cross Validation**\n",
    "* Using 5-fold cross validation to confirm that there is no over-fitting in our model\n",
    "* As you can see the deviation is very small, which means that there is probably no overfitting and the model is performing well."
   ]
  },
  {
   "cell_type": "code",
   "execution_count": 56,
   "id": "be6c9a11",
   "metadata": {},
   "outputs": [
    {
     "name": "stdout",
     "output_type": "stream",
     "text": [
      "accuracy: 0.95 (+/- 0.02)\n",
      "precision: 0.86 (+/- 0.07)\n",
      "recall: 0.85 (+/- 0.08)\n",
      "f1: 0.85 (+/- 0.06)\n"
     ]
    }
   ],
   "source": [
    "model = LogisticRegression(max_iter=10000)\n",
    "\n",
    "# Perform 5-fold cross-validation\n",
    "scores = cross_validate(model, X_resampled, y_resampled, cv=5,\n",
    "                        scoring=['accuracy', 'precision', 'recall', 'f1'])\n",
    "\n",
    "# Print the mean scores and the 95% confidence intervals\n",
    "for metric in scores.keys():\n",
    "    if metric.startswith('test_'):\n",
    "        mean = scores[metric].mean()\n",
    "        std = scores[metric].std()\n",
    "        print(f'{metric[5:]}: {mean:.2f} (+/- {std * 2:.2f})')"
   ]
  },
  {
   "cell_type": "code",
   "execution_count": null,
   "id": "43ba5a20",
   "metadata": {},
   "outputs": [],
   "source": []
  }
 ],
 "metadata": {
  "kernelspec": {
   "display_name": "Python 3 (ipykernel)",
   "language": "python",
   "name": "python3"
  },
  "language_info": {
   "codemirror_mode": {
    "name": "ipython",
    "version": 3
   },
   "file_extension": ".py",
   "mimetype": "text/x-python",
   "name": "python",
   "nbconvert_exporter": "python",
   "pygments_lexer": "ipython3",
   "version": "3.11.3"
  }
 },
 "nbformat": 4,
 "nbformat_minor": 5
}
