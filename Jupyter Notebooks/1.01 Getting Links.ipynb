{
 "cells": [
  {
   "cell_type": "markdown",
   "id": "f1e988d9",
   "metadata": {},
   "source": [
    "# Getting all NBA players links and names"
   ]
  },
  {
   "cell_type": "markdown",
   "id": "3ad7f809",
   "metadata": {},
   "source": [
    "**Imports**"
   ]
  },
  {
   "cell_type": "code",
   "execution_count": 2,
   "id": "eeed8fd0",
   "metadata": {},
   "outputs": [],
   "source": [
    "import pandas as pd\n",
    "from selenium import webdriver\n",
    "from selenium.webdriver.common.by import By\n",
    "from selenium.webdriver.support.ui import WebDriverWait\n",
    "from selenium.webdriver.support import expected_conditions as EC\n",
    "from selenium.webdriver.common.action_chains import ActionChains\n",
    "from selenium.webdriver.support.select import Select\n",
    "import time\n",
    "import re"
   ]
  },
  {
   "cell_type": "markdown",
   "id": "544d7cc4",
   "metadata": {},
   "source": [
    "**Main Script**"
   ]
  },
  {
   "cell_type": "code",
   "execution_count": null,
   "id": "ca3d4fbe",
   "metadata": {},
   "outputs": [],
   "source": [
    "options = webdriver.ChromeOptions()\n",
    "driver = webdriver.Chrome(options=options)\n",
    "url = 'https://www.nba.com/players'\n",
    "driver.get(url)\n",
    "\n",
    "# Find the toggler element\n",
    "element = driver.find_elements(By.CSS_SELECTOR, '.Toggle_switch__kRCjc')\n",
    "element = element[1]\n",
    "\n",
    "# Get the position of the element\n",
    "x = element.location['x']\n",
    "y = element.location['y']\n",
    "\n",
    "# Create an ActionChains object and move the cursor to the position of the element\n",
    "action = ActionChains(driver)\n",
    "action.move_by_offset(x, y)\n",
    "\n",
    "# Click on the element\n",
    "action.click()\n",
    "action.perform()\n",
    "time.sleep(1)\n",
    "\n",
    "# Select 'All' in the dropdown list\n",
    "select_element = driver.find_element(By.XPATH, '//*[@title=\"Page Number Selection Drown Down List\"]')\n",
    "select = Select(select_element)\n",
    "select.select_by_visible_text('All')\n",
    "\n",
    "time.sleep(1)\n",
    "\n",
    "# Wait for the table to load\n",
    "wait = WebDriverWait(driver, 15)\n",
    "wait.until(lambda driver: len(driver.find_elements(By.XPATH, \"//table//tbody/tr\")) > 1)\n",
    "\n",
    "# Read the data from the table\n",
    "table = driver.find_element(By.XPATH, \"//table\")\n",
    "data = pd.read_html(table.get_attribute('outerHTML'))[0]\n",
    "\n",
    "# Find the player names and links\n",
    "parent = table.find_elements(By.XPATH, \"//td[contains(@class, 'primary') and contains(@class, 'text') and contains(@class, 'RosterRow_primaryCol__1lto4')]\")\n",
    "player_data = []\n",
    "for index, row in data.iterrows():\n",
    "    name = row['Player']\n",
    "    formatted_name = re.sub(r\"(\\w)([A-Z])\", r\"\\1 \\2\", name).title()\n",
    "    link = parent[index].find_element(By.TAG_NAME, \"a\").get_attribute(\"href\")\n",
    "    \n",
    "    if \"career\" not in link:\n",
    "        player_id = link.split(\"/\")[4]\n",
    "        new_url = f'https://www.nba.com/stats/player/{player_id}/career'\n",
    "        player_data.append([formatted_name, new_url])\n",
    "    else:\n",
    "        player_data.append([formatted_name, link])\n",
    "\n",
    "# Save the data to a file\n",
    "player_df = pd.DataFrame(player_data, columns=['Name', 'Link'])\n",
    "player_df.to_csv('nba_players_2.csv', index=False)\n",
    "\n",
    "# Close the driver\n",
    "driver.quit()"
   ]
  },
  {
   "cell_type": "markdown",
   "id": "67eaf370",
   "metadata": {},
   "source": [
    "**Showing the file:**"
   ]
  },
  {
   "cell_type": "code",
   "execution_count": 3,
   "id": "b884f301",
   "metadata": {
    "scrolled": false
   },
   "outputs": [
    {
     "data": {
      "text/html": [
       "<div>\n",
       "<style scoped>\n",
       "    .dataframe tbody tr th:only-of-type {\n",
       "        vertical-align: middle;\n",
       "    }\n",
       "\n",
       "    .dataframe tbody tr th {\n",
       "        vertical-align: top;\n",
       "    }\n",
       "\n",
       "    .dataframe thead th {\n",
       "        text-align: right;\n",
       "    }\n",
       "</style>\n",
       "<table border=\"1\" class=\"dataframe\">\n",
       "  <thead>\n",
       "    <tr style=\"text-align: right;\">\n",
       "      <th></th>\n",
       "      <th>Name</th>\n",
       "      <th>Link</th>\n",
       "    </tr>\n",
       "  </thead>\n",
       "  <tbody>\n",
       "    <tr>\n",
       "      <th>0</th>\n",
       "      <td>Alaa Abdelnaby</td>\n",
       "      <td>https://www.nba.com/stats/player/76001/career/</td>\n",
       "    </tr>\n",
       "    <tr>\n",
       "      <th>1</th>\n",
       "      <td>Zaid Abdul-Aziz</td>\n",
       "      <td>https://www.nba.com/stats/player/76002/career/</td>\n",
       "    </tr>\n",
       "    <tr>\n",
       "      <th>2</th>\n",
       "      <td>Kareem Abdul-Jabbar</td>\n",
       "      <td>https://www.nba.com/stats/player/76003/career/</td>\n",
       "    </tr>\n",
       "    <tr>\n",
       "      <th>3</th>\n",
       "      <td>Mahmoud Abdul-Rauf</td>\n",
       "      <td>https://www.nba.com/stats/player/51/career/</td>\n",
       "    </tr>\n",
       "    <tr>\n",
       "      <th>4</th>\n",
       "      <td>Tariq Abdul-Wahad</td>\n",
       "      <td>https://www.nba.com/stats/player/1505/career/</td>\n",
       "    </tr>\n",
       "    <tr>\n",
       "      <th>...</th>\n",
       "      <td>...</td>\n",
       "      <td>...</td>\n",
       "    </tr>\n",
       "    <tr>\n",
       "      <th>4815</th>\n",
       "      <td>Ante Zizic</td>\n",
       "      <td>https://www.nba.com/stats/player/1627790/career/</td>\n",
       "    </tr>\n",
       "    <tr>\n",
       "      <th>4816</th>\n",
       "      <td>Jim Zoet</td>\n",
       "      <td>https://www.nba.com/stats/player/78647/career/</td>\n",
       "    </tr>\n",
       "    <tr>\n",
       "      <th>4817</th>\n",
       "      <td>Bill Zopf</td>\n",
       "      <td>https://www.nba.com/stats/player/78648/career/</td>\n",
       "    </tr>\n",
       "    <tr>\n",
       "      <th>4818</th>\n",
       "      <td>Ivica Zubac</td>\n",
       "      <td>https://www.nba.com/stats/player/1627826/career/</td>\n",
       "    </tr>\n",
       "    <tr>\n",
       "      <th>4819</th>\n",
       "      <td>Matt Zunic</td>\n",
       "      <td>https://www.nba.com/stats/player/78650/career/</td>\n",
       "    </tr>\n",
       "  </tbody>\n",
       "</table>\n",
       "<p>4820 rows × 2 columns</p>\n",
       "</div>"
      ],
      "text/plain": [
       "                     Name                                              Link\n",
       "0          Alaa Abdelnaby    https://www.nba.com/stats/player/76001/career/\n",
       "1         Zaid Abdul-Aziz    https://www.nba.com/stats/player/76002/career/\n",
       "2     Kareem Abdul-Jabbar    https://www.nba.com/stats/player/76003/career/\n",
       "3      Mahmoud Abdul-Rauf       https://www.nba.com/stats/player/51/career/\n",
       "4       Tariq Abdul-Wahad     https://www.nba.com/stats/player/1505/career/\n",
       "...                   ...                                               ...\n",
       "4815           Ante Zizic  https://www.nba.com/stats/player/1627790/career/\n",
       "4816             Jim Zoet    https://www.nba.com/stats/player/78647/career/\n",
       "4817            Bill Zopf    https://www.nba.com/stats/player/78648/career/\n",
       "4818          Ivica Zubac  https://www.nba.com/stats/player/1627826/career/\n",
       "4819           Matt Zunic    https://www.nba.com/stats/player/78650/career/\n",
       "\n",
       "[4820 rows x 2 columns]"
      ]
     },
     "execution_count": 3,
     "metadata": {},
     "output_type": "execute_result"
    }
   ],
   "source": [
    "df = pd.read_csv('nba_players_2.csv')\n",
    "df"
   ]
  },
  {
   "cell_type": "code",
   "execution_count": null,
   "id": "e057be97",
   "metadata": {},
   "outputs": [],
   "source": []
  }
 ],
 "metadata": {
  "kernelspec": {
   "display_name": "Python 3 (ipykernel)",
   "language": "python",
   "name": "python3"
  },
  "language_info": {
   "codemirror_mode": {
    "name": "ipython",
    "version": 3
   },
   "file_extension": ".py",
   "mimetype": "text/x-python",
   "name": "python",
   "nbconvert_exporter": "python",
   "pygments_lexer": "ipython3",
   "version": "3.11.3"
  }
 },
 "nbformat": 4,
 "nbformat_minor": 5
}
